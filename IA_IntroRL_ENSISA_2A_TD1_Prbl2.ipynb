{
  "nbformat": 4,
  "nbformat_minor": 0,
  "metadata": {
    "colab": {
      "provenance": [],
      "collapsed_sections": [
        "i38qZPSHmDVs"
      ]
    },
    "kernelspec": {
      "name": "python3",
      "display_name": "Python 3"
    },
    "language_info": {
      "name": "python"
    }
  },
  "cells": [
    {
      "cell_type": "markdown",
      "source": [
        "\n",
        "\n",
        "> Import libraries to use\n",
        "\n"
      ],
      "metadata": {
        "id": "JIuzZH7gj7Yu"
      }
    },
    {
      "cell_type": "code",
      "source": [
        "import numpy as np"
      ],
      "metadata": {
        "id": "1n-L9pacjmBA"
      },
      "execution_count": 1,
      "outputs": []
    },
    {
      "cell_type": "markdown",
      "source": [
        ">  # Introduction to numpy (Skip if you already are familiar)"
      ],
      "metadata": {
        "id": "i38qZPSHmDVs"
      }
    },
    {
      "cell_type": "markdown",
      "source": [
        ">> Creating a 1D array"
      ],
      "metadata": {
        "id": "-wFkLk1kmeIn"
      }
    },
    {
      "cell_type": "code",
      "source": [
        "a = np.array([1,2,3,4])\n",
        "print(a)"
      ],
      "metadata": {
        "colab": {
          "base_uri": "https://localhost:8080/"
        },
        "id": "E-o1XD0Qmgxk",
        "outputId": "d5e1bb74-42be-449c-e57a-8e389c3368ef"
      },
      "execution_count": null,
      "outputs": [
        {
          "output_type": "stream",
          "name": "stdout",
          "text": [
            "[1 2 3 4]\n"
          ]
        }
      ]
    },
    {
      "cell_type": "markdown",
      "source": [
        ">> Creating a 2D array\n"
      ],
      "metadata": {
        "id": "DWh4Q90Gmh32"
      }
    },
    {
      "cell_type": "code",
      "source": [
        "a = np.array([[1,2],[3,4]])\n",
        "print(a)"
      ],
      "metadata": {
        "colab": {
          "base_uri": "https://localhost:8080/"
        },
        "id": "mOS0jF1AmjTX",
        "outputId": "98649d5d-6738-499b-e907-bbcf7fe7a48f"
      },
      "execution_count": null,
      "outputs": [
        {
          "output_type": "stream",
          "name": "stdout",
          "text": [
            "[[1 2]\n",
            " [3 4]]\n"
          ]
        }
      ]
    },
    {
      "cell_type": "markdown",
      "source": [
        ">> Creating an array full of zeros\n"
      ],
      "metadata": {
        "id": "4Z_7BfvcmoPA"
      }
    },
    {
      "cell_type": "code",
      "source": [
        "a = np.zeros(shape=(10))\n",
        "print(a)\n",
        "a = np.zeros(shape=(5,2))\n",
        "print(a)"
      ],
      "metadata": {
        "colab": {
          "base_uri": "https://localhost:8080/"
        },
        "id": "KdGvmJ7gmFrF",
        "outputId": "96c1389b-8ff8-492b-9575-df4a3c38c711"
      },
      "execution_count": null,
      "outputs": [
        {
          "output_type": "stream",
          "name": "stdout",
          "text": [
            "[0. 0. 0. 0. 0. 0. 0. 0. 0. 0.]\n",
            "[[0. 0.]\n",
            " [0. 0.]\n",
            " [0. 0.]\n",
            " [0. 0.]\n",
            " [0. 0.]]\n"
          ]
        }
      ]
    },
    {
      "cell_type": "markdown",
      "source": [
        ">> Infinity in numpy"
      ],
      "metadata": {
        "id": "kV2byWmWmr9g"
      }
    },
    {
      "cell_type": "code",
      "source": [
        "print(np.inf)"
      ],
      "metadata": {
        "colab": {
          "base_uri": "https://localhost:8080/"
        },
        "id": "9SMPoECVmygc",
        "outputId": "5ceafdaf-3f4d-4c98-e084-5b0409b5f127"
      },
      "execution_count": null,
      "outputs": [
        {
          "output_type": "stream",
          "name": "stdout",
          "text": [
            "inf\n"
          ]
        }
      ]
    },
    {
      "cell_type": "markdown",
      "source": [
        ">> Max and Argmax"
      ],
      "metadata": {
        "id": "FCi8vs49mz44"
      }
    },
    {
      "cell_type": "code",
      "source": [
        "a = np.array([2,1,4,3])\n",
        "print(np.max(a))\n",
        "print(np.argmax(a))"
      ],
      "metadata": {
        "colab": {
          "base_uri": "https://localhost:8080/"
        },
        "id": "Ailb-V76nSqc",
        "outputId": "69c91264-9121-434c-8a96-a258748ad558"
      },
      "execution_count": null,
      "outputs": [
        {
          "output_type": "stream",
          "name": "stdout",
          "text": [
            "4\n",
            "2\n"
          ]
        }
      ]
    },
    {
      "cell_type": "markdown",
      "source": [
        ">> From list to Numpy"
      ],
      "metadata": {
        "id": "6XpkQzTfnXMU"
      }
    },
    {
      "cell_type": "code",
      "source": [
        "l = [1,2,3,4]\n",
        "print(l)\n",
        "print(np.asarray(l))"
      ],
      "metadata": {
        "colab": {
          "base_uri": "https://localhost:8080/"
        },
        "id": "3wdFdBaOncQI",
        "outputId": "0a5aa25a-5bee-4443-adaf-87bbcf0c1216"
      },
      "execution_count": null,
      "outputs": [
        {
          "output_type": "stream",
          "name": "stdout",
          "text": [
            "[1, 2, 3, 4]\n",
            "[1 2 3 4]\n"
          ]
        }
      ]
    },
    {
      "cell_type": "markdown",
      "source": [
        ">> Random in numpy"
      ],
      "metadata": {
        "id": "PgNawY2LngKt"
      }
    },
    {
      "cell_type": "code",
      "source": [
        "# Array of Random integers ranging from 1 to 10 (with any size you want)\n",
        "a = np.random.randint(low=1, high=10, size=(5,2))\n",
        "print(a)\n",
        "\n",
        "# Array of random elements of a list with any size you want\n",
        "a = np.random.choice([0,1,2], size=(2,))"
      ],
      "metadata": {
        "colab": {
          "base_uri": "https://localhost:8080/"
        },
        "id": "tyopXlWsnjK1",
        "outputId": "80981877-04e6-4f31-ff13-933c7a2103a5"
      },
      "execution_count": null,
      "outputs": [
        {
          "output_type": "stream",
          "name": "stdout",
          "text": [
            "[[6 4]\n",
            " [1 6]\n",
            " [7 5]\n",
            " [5 9]\n",
            " [4 2]]\n"
          ]
        }
      ]
    },
    {
      "cell_type": "markdown",
      "source": [
        ">> Shapes in numpy"
      ],
      "metadata": {
        "id": "abjqoNDSoAD6"
      }
    },
    {
      "cell_type": "code",
      "source": [
        "a = np.random.randint(low=1, high=5, size=(4,2))\n",
        "print(a.shape)\n",
        "print(a)\n",
        "\n",
        "# Reshape a to a vector of shape = (8,1)\n",
        "a = a.reshape((8,1))\n",
        "print(a.shape)\n",
        "print(a)"
      ],
      "metadata": {
        "colab": {
          "base_uri": "https://localhost:8080/"
        },
        "id": "vN2gUoZEoCbE",
        "outputId": "bb7cb91f-7983-4bc9-d9a2-60f27017986a"
      },
      "execution_count": null,
      "outputs": [
        {
          "output_type": "stream",
          "name": "stdout",
          "text": [
            "(4, 2)\n",
            "[[4 3]\n",
            " [3 2]\n",
            " [2 3]\n",
            " [2 2]]\n",
            "(8, 1)\n",
            "[[4]\n",
            " [3]\n",
            " [3]\n",
            " [2]\n",
            " [2]\n",
            " [3]\n",
            " [2]\n",
            " [2]]\n"
          ]
        }
      ]
    },
    {
      "cell_type": "markdown",
      "source": [
        "# Pre-defined utilities"
      ],
      "metadata": {
        "id": "ekYrPhAGkAfM"
      }
    },
    {
      "cell_type": "code",
      "source": [
        "\n",
        "int_to_char = {\n",
        "    0 : 'u',\n",
        "    1 : 'r',\n",
        "    2 : 'd',\n",
        "    3 : 'l'\n",
        "}\n",
        "\n",
        "policy_one_step_look_ahead = {\n",
        "    0 : [-1,0],\n",
        "    1 : [0,1],\n",
        "    2 : [1,0],\n",
        "    3 : [0,-1]\n",
        "}\n",
        "\n",
        "def policy_int_to_char(pi,n):\n",
        "\n",
        "    pi_char = ['']\n",
        "\n",
        "    for i in range(n):\n",
        "        for j in range(n):\n",
        "\n",
        "            if i == 0 and j == 0 or i == n-1 and j == n-1:\n",
        "\n",
        "                continue\n",
        "\n",
        "            pi_char.append(int_to_char[pi[i,j]])\n",
        "\n",
        "    pi_char.append('')\n",
        "\n",
        "    return np.asarray(pi_char).reshape(n,n)"
      ],
      "metadata": {
        "id": "3kXEezQ_jnoP"
      },
      "execution_count": 5,
      "outputs": []
    },
    {
      "cell_type": "markdown",
      "source": [
        "# 1- Policy evaluation"
      ],
      "metadata": {
        "id": "3zlRobQekELk"
      }
    },
    {
      "cell_type": "code",
      "source": [
        "def policy_evaluation(n,pi,v,Gamma,threshhold):\n",
        "  \"\"\"\n",
        "    This function should return the value function that follows the policy pi.\n",
        "    Use the stopping criteria given in the problem statement.\n",
        "  \"\"\"\n",
        "  while True:\n",
        "        delta = 0\n",
        "        for i in range(n):\n",
        "            for j in range(n):\n",
        "                #condition to skip\n",
        "                if (i == 0 and j == 0) or (i == n-1 and j == n-1): continue\n",
        "\n",
        "                action = pi[i, j]\n",
        "                move = policy_one_step_look_ahead[action]\n",
        "\n",
        "                next_i = i + move[0]\n",
        "                next_j = j + move[1]\n",
        "\n",
        "                next_i = max(0, min(n-1, next_i))\n",
        "                next_j = max(0, min(n-1, next_j))\n",
        "\n",
        "                new_value = Gamma * v[next_i, next_j]\n",
        "                delta = max(delta, abs(new_value - v[i, j]))\n",
        "                v[i, j] = new_value\n",
        "        #condition to stop\n",
        "        if delta < threshhold: break\n",
        "  return v"
      ],
      "metadata": {
        "id": "N7_2lpTAkHAJ"
      },
      "execution_count": 24,
      "outputs": []
    },
    {
      "cell_type": "markdown",
      "source": [
        "# 2- Policy improvement"
      ],
      "metadata": {
        "id": "id0Re9bnkWRP"
      }
    },
    {
      "cell_type": "code",
      "source": [
        "def policy_improvement(n,pi,v,Gamma):\n",
        "  \"\"\"\n",
        "    This function should return the new policy by acting in a greedy manner.\n",
        "    The function should return as well a flag indicating if the output policy\n",
        "    is the same as the input policy.\n",
        "\n",
        "    Example:\n",
        "      return new_pi, True if new_pi = pi for all states\n",
        "      else return new_pi, False\n",
        "  \"\"\"\n",
        "  policy_stable = True\n",
        "  new_pi = np.copy(pi)\n",
        "\n",
        "  for i in range(n):\n",
        "      for j in range(n):\n",
        "          if (i == 0 and j == 0) or (i == n-1 and j == n-1): continue\n",
        "\n",
        "          #calculate value for each of four actions\n",
        "          action_values = []\n",
        "          for action in range(4):\n",
        "              move = policy_one_step_look_ahead[action]\n",
        "              next_i = i + move[0]\n",
        "              next_j = j + move[1]\n",
        "\n",
        "              next_i = max(0, min(n-1, next_i))\n",
        "              next_j = max(0, min(n-1, next_j))\n",
        "\n",
        "              action_value = Gamma * v[next_i, next_j]\n",
        "              action_values.append(action_value)\n",
        "\n",
        "          #get the action of best value\n",
        "          best_action = np.argmax(action_values)\n",
        "          if best_action != pi[i, j]: policy_stable = False\n",
        "          new_pi[i, j] = best_action\n",
        "\n",
        "  return new_pi, policy_stable"
      ],
      "metadata": {
        "id": "eC8zswV7kZPF"
      },
      "execution_count": 14,
      "outputs": []
    },
    {
      "cell_type": "markdown",
      "source": [
        "# 3- Policy Initialization"
      ],
      "metadata": {
        "id": "1rJLFmZYk0I1"
      }
    },
    {
      "cell_type": "code",
      "source": [
        "def policy_initialization(n):\n",
        "  \"\"\"\n",
        "    This function should return the initial random policy for all states.\n",
        "  \"\"\"\n",
        "  return np.random.randint(0, 4, size=(n, n))"
      ],
      "metadata": {
        "id": "xpuOHJeIk2K_"
      },
      "execution_count": 21,
      "outputs": []
    },
    {
      "cell_type": "markdown",
      "source": [
        "# 4- Policy Iteration algorithm"
      ],
      "metadata": {
        "id": "rfeVN5fQlBt8"
      }
    },
    {
      "cell_type": "code",
      "source": [
        "def policy_iteration(n,Gamma,threshhold):\n",
        "\n",
        "    pi = policy_initialization(n=n)\n",
        "\n",
        "    v = np.zeros(shape=(n,n))\n",
        "\n",
        "    while True:\n",
        "\n",
        "        v = policy_evaluation(n=n,v=v,pi=pi,threshhold=threshhold,Gamma=Gamma)\n",
        "\n",
        "        pi , pi_stable = policy_improvement(n=n,pi=pi,v=v,Gamma=Gamma)\n",
        "\n",
        "        if pi_stable:\n",
        "\n",
        "            break\n",
        "\n",
        "    return pi , v"
      ],
      "metadata": {
        "id": "g7hnjz0PlFD4"
      },
      "execution_count": 16,
      "outputs": []
    },
    {
      "cell_type": "markdown",
      "source": [
        "# Main Code to Test"
      ],
      "metadata": {
        "id": "8FvleqV5onq9"
      }
    },
    {
      "cell_type": "code",
      "execution_count": 27,
      "metadata": {
        "id": "hntGpzW-jZk3",
        "colab": {
          "base_uri": "https://localhost:8080/"
        },
        "outputId": "2085356d-76c2-4339-cf54-043e2175ae2e"
      },
      "outputs": [
        {
          "output_type": "stream",
          "name": "stdout",
          "text": [
            "\n",
            "Gamma =  0.8\n",
            "\n",
            "[['' 'u' 'u' 'u']\n",
            " ['u' 'u' 'u' 'u']\n",
            " ['u' 'u' 'u' 'u']\n",
            " ['u' 'u' 'u' '']]\n",
            "\n",
            "\n",
            "[[0. 0. 0. 0.]\n",
            " [0. 0. 0. 0.]\n",
            " [0. 0. 0. 0.]\n",
            " [0. 0. 0. 0.]]\n",
            "\n",
            "Gamma =  0.9\n",
            "\n",
            "[['' 'u' 'u' 'u']\n",
            " ['u' 'u' 'u' 'u']\n",
            " ['u' 'u' 'u' 'u']\n",
            " ['u' 'u' 'u' '']]\n",
            "\n",
            "\n",
            "[[0. 0. 0. 0.]\n",
            " [0. 0. 0. 0.]\n",
            " [0. 0. 0. 0.]\n",
            " [0. 0. 0. 0.]]\n",
            "\n",
            "Gamma =  1\n",
            "\n",
            "[['' 'u' 'u' 'u']\n",
            " ['u' 'u' 'u' 'u']\n",
            " ['u' 'u' 'u' 'u']\n",
            " ['u' 'u' 'u' '']]\n",
            "\n",
            "\n",
            "[[0. 0. 0. 0.]\n",
            " [0. 0. 0. 0.]\n",
            " [0. 0. 0. 0.]\n",
            " [0. 0. 0. 0.]]\n"
          ]
        }
      ],
      "source": [
        "n = 4\n",
        "\n",
        "Gamma = [0.8,0.9,1]\n",
        "\n",
        "threshhold = 1e-4\n",
        "\n",
        "for _gamma in Gamma:\n",
        "\n",
        "    pi , v = policy_iteration(n=n,Gamma=_gamma,threshhold=threshhold)\n",
        "\n",
        "    pi_char = policy_int_to_char(n=n,pi=pi)\n",
        "\n",
        "    print()\n",
        "    print(\"Gamma = \",_gamma)\n",
        "\n",
        "    print()\n",
        "\n",
        "    print(pi_char)\n",
        "\n",
        "    print()\n",
        "    print()\n",
        "\n",
        "    print(v)\n"
      ]
    }
  ]
}